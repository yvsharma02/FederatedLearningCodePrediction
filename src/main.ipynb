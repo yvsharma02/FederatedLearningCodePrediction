{
 "cells": [
  {
   "cell_type": "code",
   "execution_count": 1,
   "metadata": {},
   "outputs": [],
   "source": [
    "import torch\n",
    "from custom_transformer import CustomTransformer"
   ]
  },
  {
   "cell_type": "code",
   "execution_count": 2,
   "metadata": {},
   "outputs": [
    {
     "data": {
      "text/plain": [
       "<torch._C.Generator at 0x210631bd3f0>"
      ]
     },
     "execution_count": 2,
     "metadata": {},
     "output_type": "execute_result"
    }
   ],
   "source": [
    "torch.manual_seed(1234)"
   ]
  },
  {
   "cell_type": "code",
   "execution_count": 3,
   "metadata": {},
   "outputs": [
    {
     "name": "stdout",
     "output_type": "stream",
     "text": [
      "65\n"
     ]
    }
   ],
   "source": [
    "# Testing on random input text before actual python scripts to make sure everything works.\n",
    "with (open(\"../data/input.txt\", \"r\") as file):\n",
    "    text = file.read()\n",
    "\n",
    "vocab = sorted(set(text))\n",
    "print(len(vocab))"
   ]
  },
  {
   "cell_type": "code",
   "execution_count": 4,
   "metadata": {},
   "outputs": [],
   "source": [
    "ctoi = {ch : i for i, ch in enumerate(vocab)}\n",
    "itos = {i : ch for i, ch in enumerate(vocab)}\n",
    "\n",
    "encode = lambda s : [ctoi[c] for c in s]\n",
    "decode = lambda s : ''.join([itos[i] for i in s])"
   ]
  },
  {
   "cell_type": "code",
   "execution_count": 5,
   "metadata": {},
   "outputs": [],
   "source": [
    "data = encode(text)\n",
    "train_size = int(len(data) * .9)\n",
    "train = data[:train_size]\n",
    "test = data[train_size:]\n",
    "\n",
    "def get_batches(dataset, batches, context_len):\n",
    "    pos = torch.randint(len(dataset) - context_len, (batches,))\n",
    "    x = torch.stack([torch.tensor(dataset[x : x + context_len]) for x in pos])\n",
    "    y = torch.stack([torch.tensor(dataset[x + 1 : x + context_len + 1]) for x in pos])\n",
    "\n",
    "    return x,y"
   ]
  },
  {
   "cell_type": "code",
   "execution_count": 6,
   "metadata": {},
   "outputs": [],
   "source": [
    "transformer = CustomTransformer(len(vocab), 10, 20, 4, 2)\n",
    "optimizer = torch.optim.Adam(transformer.parameters(), lr=1e-3)"
   ]
  },
  {
   "cell_type": "code",
   "execution_count": 8,
   "metadata": {},
   "outputs": [
    {
     "name": "stdout",
     "output_type": "stream",
     "text": [
      "torch.Size([40])\n",
      "torch.Size([40, 65])\n",
      "tensor([52,  1, 46, 43, 39, 56,  8,  1, 15, 53, 56, 49,  1, 53, 56,  1, 61, 47,\n",
      "        50, 58, 53, 52,  1, 58, 46, 43,  1, 43, 39, 56,  6,  1, 51, 63,  1, 50,\n",
      "        53, 53, 49, 57])\n",
      "4.170228481292725\n",
      "torch.Size([40])\n",
      "torch.Size([40, 65])\n",
      "tensor([57,  1, 50, 47, 43, 44,  1, 40, 43,  1, 59, 52, 58, 39, 59, 45, 46, 58,\n",
      "         1, 50, 43, 56, 10,  1, 47, 44,  0, 63, 53, 59, 61, 52,  8,  1, 15, 39,\n",
      "        50, 50,  1, 63])\n",
      "4.129917621612549\n",
      "torch.Size([40])\n",
      "torch.Size([40, 65])\n",
      "tensor([57,  1, 61, 47, 58, 46,  1, 46, 53, 50,  0, 19, 24, 27, 33, 15, 17, 31,\n",
      "        32, 17, 43, 42,  6,  0, 26, 53,  1, 56, 47, 41, 56, 43,  1, 51, 39, 49,\n",
      "        43, 57,  1, 58])\n",
      "4.118072986602783\n",
      "torch.Size([40])\n",
      "torch.Size([40, 65])\n",
      "tensor([39, 57,  1, 58, 46, 53, 59,  1, 50, 53, 58, 47, 53, 52,  1, 53, 44,  1,\n",
      "        54, 53,  1, 58, 53,  1, 46, 53, 50, 42,  1, 51, 39, 50, 50, 57,  2,  0,\n",
      "        30, 53, 59, 45])\n",
      "3.81141996383667\n",
      "torch.Size([40])\n",
      "torch.Size([40, 65])\n",
      "tensor([42,  1, 53, 44, 11,  1, 53, 56,  1, 61, 41, 53, 51, 43, 57,  1, 39,  1,\n",
      "        51, 39,  1, 58, 46, 43,  1, 40, 39, 52, 49, 57, 50, 53, 53, 49,  1, 53,\n",
      "        52,  1, 46, 47])\n",
      "4.0299248695373535\n",
      "torch.Size([40])\n",
      "torch.Size([40, 65])\n",
      "tensor([ 1, 46, 43, 39, 42, 57,  6,  0, 18, 53, 51, 39, 47, 52,  1, 39,  1, 54,\n",
      "        53, 47, 53, 52,  1, 53, 44,  1, 39,  1, 61, 53, 61, 46, 43, 52,  1, 63,\n",
      "        53, 59,  1, 57])\n",
      "3.8763012886047363\n",
      "torch.Size([40])\n",
      "torch.Size([40, 65])\n",
      "tensor([57, 10,  0, 35, 46, 39, 58,  1, 41, 53, 53,  1, 46, 47, 51,  1, 43, 56,\n",
      "        43,  1, 56, 42, 57,  6,  0, 21,  1, 57, 43, 52, 42,  1, 54, 39, 47, 52,\n",
      "         5, 42,  0, 37])\n",
      "3.90495228767395\n",
      "torch.Size([40])\n",
      "torch.Size([40, 65])\n",
      "tensor([42,  6,  1, 61, 47, 50, 50,  1, 45, 53, 44, 56, 53, 51,  1, 51, 43,  6,\n",
      "         0, 14, 42, 43, 57, 47, 56, 43,  1, 42, 53, 58, 50, 53, 56, 42, 12,  0,\n",
      "         0, 16, 33, 23])\n",
      "3.9373714923858643\n",
      "torch.Size([40])\n",
      "torch.Size([40, 65])\n",
      "tensor([47, 39, 52, 41, 43, 42,  1, 58, 46, 47,  1, 39, 42, 60, 47, 57, 43,  1,\n",
      "        63, 53,  1, 21,  1, 52, 53, 58,  1, 56, 43, 39, 39, 58,  1, 44, 43, 39,\n",
      "        58,  6,  1, 63])\n",
      "3.8233134746551514\n",
      "torch.Size([40])\n",
      "torch.Size([40, 65])\n",
      "tensor([43, 58, 61, 43, 43, 52,  0, 61, 46, 47, 50, 50,  1, 56, 43, 57, 58,  1,\n",
      "        40, 59, 63,  1, 46, 43, 39, 56, 58,  5, 57,  1, 16,  1, 21, 34, 10,  0,\n",
      "        35, 46, 43, 52])\n",
      "4.075606346130371\n"
     ]
    }
   ],
   "source": [
    "for i in range(10):\n",
    "    train_in, train_target = get_batches(train, 4, 10)\n",
    "\n",
    "    logits, loss = transformer(train_in, train_target)\n",
    "    optimizer.zero_grad(set_to_none=True)\n",
    "    loss.backward()\n",
    "    optimizer.step()\n",
    "    \n",
    "    print(loss.item())"
   ]
  }
 ],
 "metadata": {
  "kernelspec": {
   "display_name": "Python 3.11.0 64-bit",
   "language": "python",
   "name": "python3"
  },
  "language_info": {
   "codemirror_mode": {
    "name": "ipython",
    "version": 3
   },
   "file_extension": ".py",
   "mimetype": "text/x-python",
   "name": "python",
   "nbconvert_exporter": "python",
   "pygments_lexer": "ipython3",
   "version": "3.11.0"
  },
  "orig_nbformat": 4,
  "vscode": {
   "interpreter": {
    "hash": "5238573367df39f7286bb46f9ff5f08f63a01a80960060ce41e3c79b190280fa"
   }
  }
 },
 "nbformat": 4,
 "nbformat_minor": 2
}
