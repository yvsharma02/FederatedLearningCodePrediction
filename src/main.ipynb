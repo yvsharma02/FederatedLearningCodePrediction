{
 "cells": [
  {
   "cell_type": "code",
   "execution_count": 1,
   "metadata": {},
   "outputs": [],
   "source": [
    "import torch\n",
    "import math\n",
    "import os\n",
    "from datetime import datetime\n",
    "import flwr\n",
    "\n",
    "import torch.nn as nn\n",
    "import torch.nn.functional as F\n",
    "\n",
    "from torch.utils.data.dataset import Dataset\n",
    "from torch.utils.data.dataloader import DataLoader\n",
    "\n",
    "torch.manual_seed(1234)\n",
    "device = torch.device(\"cuda\" if torch.cuda.is_available() else \"cpu\")\n",
    "torch._dynamo.config.suppress_errors = True"
   ]
  },
  {
   "cell_type": "code",
   "execution_count": 2,
   "metadata": {},
   "outputs": [],
   "source": [
    "class AttentionHead(nn.Module):\n",
    "\n",
    "    def __init__(self, emb_dim, head_size, context_window_len, mask):\n",
    "        super(AttentionHead, self).__init__()\n",
    "        # These Layers Map (B, W, E) -> (B, W, HEAD_SIZE)\n",
    "\n",
    "        assert mask == 'encoder' or mask == 'decoder'\n",
    "\n",
    "        self.key = nn.Linear(emb_dim, head_size, bias=False, device=device)\n",
    "        self.query = nn.Linear(emb_dim, head_size, bias=False, device=device)\n",
    "        self.value = nn.Linear(emb_dim, head_size, bias=False, device=device)\n",
    "        self.mask_type = mask\n",
    "        self.context_window_len = context_window_len\n",
    "        self.head_size = head_size\n",
    "\n",
    "    # Returns a mask of (W, W)\n",
    "    def get_mask_tensor(self):\n",
    "        if (self.mask_type == 'encoder'):\n",
    "            return torch.tril(torch.ones(self.context_window_len, self.context_window_len, device=device))\n",
    "        elif (self.mask_type == 'decoder'):\n",
    "            return torch.ones(self.context_window_len, self.context_window_len, device=device)\n",
    "    \n",
    "    # Input is of shape (B, W, E) where E is embedding dimensions.\n",
    "    # Output is of shape (B, W, E)\n",
    "    def forward(self, input):\n",
    "        k = self.key(input) # Convert (B, W1, E) -> (B, W1, HEAD_SIZE)\n",
    "        q = self.query(input) # Convert (B, W2, E) -> (B, W2, HEAD_SIZE) (W1 == W2 == W3)\n",
    "        v = self.value(input) # (B, W3, E) -> (B, W3, HEAD_SIZE)\n",
    "        match = q @ k.transpose(-2, -1) # Produce Matrix (B, W1, W2)\n",
    "        mask = self.get_mask_tensor()\n",
    "        match = match.masked_fill(mask == 0, float('-inf'))\n",
    "        attention = torch.softmax(match, dim=-1) / math.sqrt(self.head_size) # Still (B, W1, W2)\n",
    "\n",
    "        res = attention @ v # (B, W1, W2) @ (B, W3, HEAD_SIZE) -> (B, W1=W3, HEAD_SIZE)\n",
    "        return res"
   ]
  },
  {
   "cell_type": "code",
   "execution_count": 3,
   "metadata": {},
   "outputs": [],
   "source": [
    "class MultiHeadedAttention(nn.Module):\n",
    "\n",
    "    def __init__(self, emb_dim, num_heads, context_window_len, mask):\n",
    "        super(MultiHeadedAttention, self).__init__()\n",
    "        assert emb_dim % num_heads == 0\n",
    "        self.attention_heads = [AttentionHead(emb_dim, emb_dim // num_heads, context_window_len, mask) for i in range(0, num_heads)]\n",
    "        \n",
    "\n",
    "    # Input is (B, W, E)\n",
    "    def forward(self, input):\n",
    "        # Each ah returns (B, W, E/num_heads)\n",
    "        return torch.cat([ah(input) for ah in self.attention_heads], dim= -1)\n"
   ]
  },
  {
   "cell_type": "code",
   "execution_count": 4,
   "metadata": {},
   "outputs": [],
   "source": [
    "class Block(nn.Module):\n",
    "    def __init__(self, context_window_size, embedding_dimensions, num_heads, hidden_layer_multiplier = 4, dropout_rate = 0.3):\n",
    "        super(Block, self).__init__()\n",
    "\n",
    "        self.network = nn.Sequential(\n",
    "            MultiHeadedAttention(embedding_dimensions, num_heads, context_window_size, 'encoder'),\n",
    "            nn.Linear(embedding_dimensions, hidden_layer_multiplier * embedding_dimensions, device=device),\n",
    "            nn.ReLU(),\n",
    "            nn.Linear(embedding_dimensions * hidden_layer_multiplier, embedding_dimensions, device=device),\n",
    "            nn.LayerNorm(embedding_dimensions, device=device),\n",
    "            nn.Dropout(dropout_rate)\n",
    "        )\n",
    "\n",
    "    # Raw input is a tesnor of (B, W). It should have already mapped tokens to integer.\n",
    "    def forward(self, raw_input):\n",
    "        return self.network(raw_input)\n",
    "\n",
    "class CustomTransformer(nn.Module):\n",
    "\n",
    "    # Input to the Transformer will be a matrix of size (B, W)\n",
    "    # B is the Batch Size.\n",
    "    # W is the Window Size (context_window_size)\n",
    "    # Example:\n",
    "    # [a, b, c]\n",
    "    # [d, e, f]\n",
    "    #\n",
    "    # [a, b, c] is an input example. (context_len = W = 3)\n",
    "    # There are two batches [a, b, c] and [d, e, f] (B = 2)\n",
    "    # a, b, c should be integers (each representing one possible token). a, b, c should belong in [0, dict_size)\n",
    "    def __init__(self, dict_size, context_window_size, embedding_dimensions, num_heads, block_count):\n",
    "        super(CustomTransformer, self).__init__()\n",
    "        self.context_window_size = context_window_size\n",
    "        self.token_embedding = nn.Embedding(dict_size, embedding_dimensions, device=device)\n",
    "        self.position_embedding = nn.Embedding(context_window_size, embedding_dimensions, device=device)\n",
    "        self.decoder = nn.Linear(embedding_dimensions, dict_size, device=device)\n",
    "\n",
    "        self.network = nn.Sequential(\n",
    "            *[Block(context_window_size, embedding_dimensions, num_heads) for _ in range(0, block_count)]\n",
    "        )\n",
    "\n",
    "    def embed(self, input, spatial = False):\n",
    "        emb = self.token_embedding(input)\n",
    "        if (spatial):\n",
    "            return emb + self.position_embedding(torch.arange(0, self.context_window_size, device=device))\n",
    "\n",
    "        return emb\n",
    "\n",
    "    # Raw input is a tesnor of (B, W). On CPU. It should have already mapped tokens to integer.\n",
    "    def forward(self, raw_input, targets):\n",
    "        if(raw_input.device != device):\n",
    "            raw_input = raw_input.to(device)\n",
    "        input = self.embed(raw_input, True)\n",
    "        logits = self.network(input)\n",
    "        logits = self.decoder(logits)\n",
    "        if (targets != None):\n",
    "            if(targets.device != device):\n",
    "                targets = targets.to(device)\n",
    "            logits_1d = logits.view(logits.shape[0] * logits.shape[1], logits.shape[2])\n",
    "            targets = targets.view(logits_1d.shape[0])\n",
    "            loss = F.cross_entropy(logits_1d, targets)\n",
    "        else:\n",
    "            loss = None\n",
    "        return logits, loss"
   ]
  },
  {
   "cell_type": "code",
   "execution_count": 5,
   "metadata": {},
   "outputs": [],
   "source": [
    "DELIMITER = \"<|endoftext|>\"\n",
    "PADDING = \"<|padding|>\"\n",
    "VOCAB_SIZE = 2500\n",
    "\n",
    "DELIM_ENCODED = 0\n",
    "PADDING_ENCODED = 1"
   ]
  },
  {
   "cell_type": "code",
   "execution_count": 6,
   "metadata": {},
   "outputs": [],
   "source": [
    "def split(x : list, delim):\n",
    "    ind = x.index(delim) if delim in x else -1\n",
    "    if (ind == -1):\n",
    "        return [x]\n",
    "    y = split(x[ind + 1:], delim)\n",
    "    cur = x[:ind]\n",
    "    return [x[:ind]] + y if len(cur) != 0 else y\n",
    "\n",
    "#print(split([1, 2, 3, 4, 5, 1, 2, 3, 4, 5, 1, 2, 3, 4], 1))\n",
    "\n",
    "def get_padded_longest_sample(encoded : list[int]):\n",
    "    splits = split(encoded, DELIM_ENCODED)\n",
    "    splits.sort(key=lambda x: -len(x))\n",
    "    item = splits[0]\n",
    "    if (len(splits) > 1):\n",
    "        splits[0].append(DELIM_ENCODED)\n",
    "#    print((CONTEXT_LEN - len(splits[0])))\n",
    "    res = [PADDING_ENCODED] * (CONTEXT_LEN - len(splits[0]))\n",
    "    res = res + splits[0]\n",
    "#    print(res)\n",
    "#    print(\"Final: \", tokenizer.decode(res))\n",
    "    return res;\n",
    "\n",
    "def remove_padding(encoded : list[int]):\n",
    "    return [x for i, x in enumerate(encoded) if x not in [DELIM_ENCODED, PADDING_ENCODED]]\n",
    "\n",
    "class TextDataset(torch.utils.data.Dataset):\n",
    "    def __init__(self, data, context_len):\n",
    "        self.data = data.ids\n",
    "        print(self.data[0:100])\n",
    "        self.context_len = context_len\n",
    "\n",
    "    # ABCDE for context len of 1 has 4 examples: (A, B), (B, C), (C, D), (D, E)\n",
    "    # for context len 2 has examples 3 (AB, C), (BC, D), (CD, E)\n",
    "    def __len__(self):\n",
    "        return len(self.data) - self.context_len\n",
    "\n",
    "    def __getitem__(self, idx):\n",
    "        return torch.tensor(get_padded_longest_sample(self.data[idx : idx + self.context_len]), device = device), torch.tensor(get_padded_longest_sample(self.data[idx + 1 :idx + self.context_len + 1]), device=device)"
   ]
  },
  {
   "cell_type": "code",
   "execution_count": 7,
   "metadata": {},
   "outputs": [],
   "source": [
    "import codecs\n",
    "def convert_to_utf8(input_file, output_file):\n",
    "    with open(input_file, 'rb') as file:\n",
    "        content = file.read()\n",
    "        \n",
    "    decoded_content = content.decode('utf-8', errors='replace')\n",
    "        \n",
    "    with codecs.open(output_file, 'w', encoding='utf-8') as file:\n",
    "        file.write(decoded_content)\n",
    "        \n",
    "\n",
    "\n",
    "# import coDesc_parser\n",
    "# #4211516\n",
    "# #res = coDesc_parser.fragment_dataset(\"../data/CoDesc/CoDesc.json\", \"../data/CoDesc/fragmented\")\n",
    "# #print(res)\n",
    "\n",
    "# random_samples = torch.randint(0, 4211516, (100000,)).tolist()\n",
    "# train_indices = random_samples[:80000]\n",
    "# test_indices = random_samples[80000:]\n",
    "# coDesc_parser.fragmented_files_to_txt_file(train_indices, \"../data/CoDesc/fragmented\", DELIMITER, \"train.txt\")\n",
    "# coDesc_parser.fragmented_files_to_txt_file(test_indices, \"../data/CoDesc/fragmented\", DELIMITER, \"test.txt\")\n",
    "\n",
    "# #coDesc_parser.fragmented_files_to_txt_file(range(90), \"../data/CoDesc/fragmented\", DELIMITER, \"train.txt\")\n",
    "# #coDesc_parser.fragmented_files_to_txt_file(range(90, 100), \"../data/CoDesc/fragmented\", DELIMITER, \"test.txt\")\n",
    "\n",
    "#convert_to_utf8(\"../data/CoDesc/fragmented/train.txt\", \"../data/CoDesc/fragmented/train_utf8.txt\")\n",
    "#convert_to_utf8(\"../data/CoDesc/fragmented/test.txt\", \"../data/CoDesc/fragmented/test_utf8.txt\")\n",
    "    \n",
    "# from tiktoken._educational import *"
   ]
  },
  {
   "cell_type": "code",
   "execution_count": 8,
   "metadata": {},
   "outputs": [],
   "source": [
    "# from tiktoken._educational import *\n",
    "\n",
    "# tokenizer = tiktoken.get_encoding(\"cl100k_base\")\n",
    "\n",
    "# in_dir = \"../data/CoDesc/fragmented\"\n",
    "\n",
    "# with open(os.path.join(in_dir, \"train.txt\"), \"r\") as f:\n",
    "#     train = f.read()\n",
    "\n",
    "# with open(os.path.join(in_dir, \"test.txt\"), \"r\") as f:\n",
    "#     test = f.read()\n",
    "\n",
    "\n",
    "\n",
    "# train_simple_encoding = tokenizer.encode(train, allowed_special={\"<|endoftext|>\"})\n",
    "\n",
    "# train_enc = tokenizer.encode(train, allowed_special={\"<|endoftext|>\"})\n",
    "# test_enc = tokenizer.encode(test, allowed_special={\"<|endoftext|>\"})"
   ]
  },
  {
   "cell_type": "code",
   "execution_count": 9,
   "metadata": {},
   "outputs": [
    {
     "data": {
      "text/plain": [
       "['../data/tokenizer\\\\vocab.json', '../data/tokenizer\\\\merges.txt']"
      ]
     },
     "execution_count": 9,
     "metadata": {},
     "output_type": "execute_result"
    }
   ],
   "source": [
    "from tokenizers import ByteLevelBPETokenizer\n",
    "\n",
    "tokenizer = ByteLevelBPETokenizer()\n",
    "tokenizer.train(files=[\"../data/CoDesc/fragmented/train_utf8.txt\"], vocab_size=VOCAB_SIZE, min_frequency=2, special_tokens=[DELIMITER, PADDING])\n",
    "\n",
    "if not os.path.exists(\"../data/tokenizer\"):\n",
    "    os.makedirs(\"../data/tokenizer\")\n",
    "\n",
    "tokenizer.save_model(\"../data/tokenizer\")\n",
    "\n",
    "#tokenizer = ByteLevelBPETokenizer(\"../data/tokenizer/vocab.json\", \"../data/tokenizer/merges.txt\")\n"
   ]
  },
  {
   "cell_type": "code",
   "execution_count": 10,
   "metadata": {},
   "outputs": [],
   "source": [
    "\n",
    "train = open(\"../data/CoDesc/fragmented/train_utf8.txt\", \"r\").read()\n",
    "test = open(\"../data/CoDesc/fragmented/test_utf8.txt\", \"r\").read()\n",
    "\n",
    "train_enc = tokenizer.encode(train)\n",
    "test_enc = tokenizer.encode(test)"
   ]
  },
  {
   "cell_type": "code",
   "execution_count": 11,
   "metadata": {},
   "outputs": [],
   "source": [
    "CONTEXT_LEN = 256\n",
    "BLOCK_COUNT = 2\n",
    "EMBED_DIM = 1024\n",
    "NUM_HEADS = 32\n",
    "LEARNING_RATE = 1e-2\n",
    "BATCH_COUNT = 32\n",
    "ITERATIONS = 50000"
   ]
  },
  {
   "cell_type": "code",
   "execution_count": 12,
   "metadata": {},
   "outputs": [
    {
     "name": "stdout",
     "output_type": "stream",
     "text": [
      "22176196\n"
     ]
    }
   ],
   "source": [
    "transformer = CustomTransformer(VOCAB_SIZE, CONTEXT_LEN, EMBED_DIM, NUM_HEADS, BLOCK_COUNT)\n",
    "optimizer = torch.optim.Adam(transformer.parameters(), lr=LEARNING_RATE)\n",
    "\n",
    "print(sum(p.numel() for p in transformer.parameters()))"
   ]
  },
  {
   "cell_type": "code",
   "execution_count": 13,
   "metadata": {},
   "outputs": [],
   "source": [
    "def complete(ctx, new_len):\n",
    "    res = [x for x in ctx]\n",
    "    \n",
    "    for _ in range(new_len):\n",
    "        ctx = torch.tensor([res[-CONTEXT_LEN:]])\n",
    "        prob, loss = transformer(ctx, None) # Returns a tensor of size (1, W, EM)\n",
    "        prob = prob.squeeze(0)\n",
    "        prob = torch.softmax(prob, dim=-1) # (1, W, EM)\n",
    "        pred = torch.multinomial(prob, 1) # (1, W, 1)\n",
    "        res.append(pred[-1, 0].item())\n",
    "    return tokenizer.decode(res[-new_len:])"
   ]
  },
  {
   "cell_type": "code",
   "execution_count": 14,
   "metadata": {},
   "outputs": [
    {
     "name": "stdout",
     "output_type": "stream",
     "text": [
      "[0, 739, 2061, 601, 265, 270, 271, 2085, 478, 580, 1105, 295, 624, 85, 1623, 601, 905, 560, 264, 289, 692, 1459, 1904, 475, 485, 278, 281, 358, 546, 295, 465, 265, 403, 299, 278, 399, 295, 299, 390, 560, 264, 289, 692, 1459, 1904, 284, 732, 295, 299, 1105, 270, 271, 560, 264, 289, 692, 1459, 1904, 475, 299, 485, 278, 364, 295, 280, 1665, 278, 399, 295, 280, 0, 200, 336, 508, 575, 475, 485, 2296, 2240, 2065, 46, 434, 265, 575, 356, 290, 324, 575, 1138, 72, 324, 403, 285, 72, 324, 403, 222, 696, 462, 267]\n"
     ]
    }
   ],
   "source": [
    "train_dataset = TextDataset(train_enc, CONTEXT_LEN)\n",
    "train_loader = DataLoader(train_dataset, BATCH_COUNT, shuffle=True)\n",
    "\n",
    "transformer = torch.compile(transformer)\n",
    "#transformer.load_state_dict(torch.load(\"../data/out/model.pt\"))"
   ]
  },
  {
   "cell_type": "code",
   "execution_count": 15,
   "metadata": {},
   "outputs": [
    {
     "name": "stdout",
     "output_type": "stream",
     "text": [
      "torch.Size([32, 256])\n"
     ]
    }
   ],
   "source": [
    "loss_history = []\n",
    "history = []\n",
    "loss_avg_block_size = 10\n",
    "\n",
    "#train_dataset = TextDataset(train_enc, CONTEXT_LEN)\n",
    "# Prefetch the first batch\n",
    "#train_in, train_target = get_batches(train_enc, BATCH_COUNT, CONTEXT_LEN)\n",
    "\n",
    "#load model\n",
    "#transformer = CustomTransformer(tokenizer.n_vocab, CONTEXT_LEN, EMBED_DIM, NUM_HEADS, BLOCK_COUNT)\n",
    "\n",
    "out_dir = \"../data/out22M/\"\n",
    "if not os.path.exists(out_dir):\n",
    "    os.makedirs(out_dir)\n",
    "\n",
    "i = 0\n",
    "for current_train_in, current_train_target in train_loader:\n",
    "    start_time = datetime.now()\n",
    "    # Process the current batch\n",
    "    print(current_train_in.shape)\n",
    "    logits, loss = transformer(current_train_in, current_train_target)\n",
    "    optimizer.zero_grad(set_to_none=True)\n",
    "    loss.backward()\n",
    "    optimizer.step()\n",
    "    \n",
    "    history.append(loss.item())\n",
    "    print (f\"Iteration {i} Loss: {history[-1]}\")\n",
    "    if (len(history) >= loss_avg_block_size):\n",
    "        loss_history.append(torch.tensor(history).mean().item())\n",
    "        history = []\n",
    "        print (f\"Iteration {i} Loss: {loss_history[-1]}\")\n",
    "    i += 1\n",
    "\n",
    "    if (not os.path.exists(out_dir)):\n",
    "        os.makedirs(out_dir)\n",
    "\n",
    "    torch.save(transformer.state_dict(), os.path.join(out_dir, \"model.pt\"))\n",
    "    end_time = datetime.now()\n",
    "\n",
    "    total_seconds = (end_time - start_time).total_seconds()\n",
    "\n",
    "    with open(os.path.join(out_dir, \"loss.txt\"), \"a+\") as f:\n",
    "        f.write(f\"Loss: {str(loss)}___________Time: {total_seconds}s\\n\")\n",
    "\n",
    "    if (i >= ITERATIONS):\n",
    "        break\n",
    "\n",
    "if (len(history) > 0):\n",
    "    loss_history.append(torch.tensor(history).mean().item())"
   ]
  },
  {
   "cell_type": "code",
   "execution_count": null,
   "metadata": {},
   "outputs": [
    {
     "data": {
      "image/png": "[encoded data removed]",
      "text/plain": [
       "<Figure size 1000x600 with 1 Axes>"
      ]
     },
     "metadata": {},
     "output_type": "display_data"
    }
   ],
   "source": [
    "import matplotlib.pyplot as plt\n",
    "\n",
    "plt.figure(figsize=(10, 6))\n",
    "plt.plot(range(1, len(loss_history * loss_avg_block_size) + 1, loss_avg_block_size), loss_history)\n",
    "plt.xlabel('Iterations')\n",
    "plt.ylabel('Loss')\n",
    "plt.title('Loss History')\n",
    "plt.grid(True)\n",
    "plt.show()\n"
   ]
  },
  {
   "cell_type": "code",
   "execution_count": null,
   "metadata": {},
   "outputs": [
    {
     "name": "stdout",
     "output_type": "stream",
     "text": [
      "_________________________SAMPLED_________________________:\n",
      "PluggableType pluggableType=BackendDescriptor.PluggableType.UNKNOWN;\n",
      "      if (cn != null && cn.endsWith(DATABASE_JE_MONITORING_ENTRY_SUFFIX)) {\n",
      "        pluggableType=BackendDescriptor.PluggableType.JE;\n",
      "        monitorBackendID=cn.substring(0,cn.length() - DATABASE_JE_MONITORING_ENTRY_SUFFIX.length());\n",
      "      }\n",
      "      if (cn != null && cn.endsWith(DATABASE_PDB_MONITORING_ENTRY_SUFFIX)) {\n",
      "        pluggableType=BackendDescriptor.PluggableType.PDB;\n",
      "        monitorBackendID=cn.substring(0,cn.length() - DATABASE_PDB_MONITORING_ENTRY_SUFFIX\n",
      "_________________________PREDICTED_______________________:\n",
      ",0,ASE_CONFRELTERERENCEMCAPPROVID,fs.variableCompospVED_RESS);\n",
      "        getSrc.start();\n",
      "      }\n",
      "       MessageType.set(asser_TYPE,ge);\n",
      "    }\n",
      "    return level;\n",
      "    AIREWORY;\n",
      "    else {\n",
      "    }\n",
      "    if (level != null) {\n",
      "      cn=(cmpS + 1) >>> 1) {\n",
      "           for (Cubst.nf : zplu > Colorphice\tfloat b.nDB.Counts) {\n",
      "        return NEqualledlyphaNeeds;\n",
      "  }\n",
      " catch (per) {\n",
      "    show.finishertra(bit.WAMPLEM_PROLIENTEREQUEST_ON_SYNER,b) - 1);\n",
      "    } }\n",
      "\n",
      "  }\n",
      "  }\n",
      "  entermin\",getLabelPfinal Client.getLabel() > 2) + 1 1);\n",
      "  readPrevFocusableByte((byte)data.getC\n"
     ]
    }
   ],
   "source": [
    "start = torch.randint(0, len(test_enc) - CONTEXT_LEN, (1,)).item()\n",
    "sampled_txt = test_enc.ids[start:start + CONTEXT_LEN]\n",
    "print(\"_________________________SAMPLED_________________________:\")\n",
    "print(tokenizer.decode(sampled_txt))\n",
    "print(\"_________________________PREDICTED_______________________:\")\n",
    "x = complete(sampled_txt, CONTEXT_LEN)\n",
    "print(\"\".join(remove_padding(x)))"
   ]
  },
  {
   "cell_type": "code",
   "execution_count": null,
   "metadata": {},
   "outputs": [
    {
     "ename": "NameError",
     "evalue": "name 'syft' is not defined",
     "output_type": "error",
     "traceback": [
      "\u001b[1;31m---------------------------------------------------------------------------\u001b[0m",
      "\u001b[1;31mNameError\u001b[0m                                 Traceback (most recent call last)",
      "Cell \u001b[1;32mIn[56], line 3\u001b[0m\n\u001b[0;32m      1\u001b[0m \u001b[38;5;28;01mimport\u001b[39;00m \u001b[38;5;21;01mtorch\u001b[39;00m\n\u001b[0;32m      2\u001b[0m \u001b[38;5;28;01mimport\u001b[39;00m \u001b[38;5;21;01msyft\u001b[39;00m \u001b[38;5;28;01mas\u001b[39;00m \u001b[38;5;21;01msy\u001b[39;00m\n\u001b[1;32m----> 3\u001b[0m \u001b[38;5;28mprint\u001b[39m(\u001b[43msyft\u001b[49m\u001b[38;5;241m.\u001b[39m__version__)\n\u001b[0;32m      4\u001b[0m \u001b[38;5;66;03m# bob = sy.VirtualWorker(id=\"bob\") \u001b[39;00m\n\u001b[0;32m      5\u001b[0m \u001b[38;5;66;03m# alice = sy.VirtualWorker(id=\"alice\")\u001b[39;00m\n\u001b[0;32m      6\u001b[0m \u001b[38;5;66;03m# x = torch.tensor([25]).share(bob,alice) \u001b[39;00m\n\u001b[1;32m   (...)\u001b[0m\n\u001b[0;32m     18\u001b[0m \u001b[38;5;66;03m# z = x + y \u001b[39;00m\n\u001b[0;32m     19\u001b[0m \u001b[38;5;66;03m# print(\"Automatic reconstruction of x + y: \", z.get())\u001b[39;00m\n",
      "\u001b[1;31mNameError\u001b[0m: name 'syft' is not defined"
     ]
    }
   ],
   "source": [
    "# bob = sy.VirtualWorker(id=\"bob\") \n",
    "# alice = sy.VirtualWorker(id=\"alice\")\n",
    "# x = torch.tensor([25]).share(bob,alice) \n",
    "# y = torch.tensor([5]).share(bob,alice)\n",
    "# print(\"Bob share of x (==25): \", list(bob._tensors.values())[0]) # inspect the encrypted values \n",
    "# print(\"Alice share of x (==25): \", list(alice._tensors.values())[0]) # inspect the encrypted values \n",
    "# print(\"Adding both shares of x (==25): \", list(bob._tensors.values())[0]+list(alice._tensors.values())[0]) # manually decrypt the first tensor (25) by adding the 2 users shares\n",
    "# # manually add 2 encrypted numbers \n",
    "# share_bob = list(bob._tensors.values())[0] + list(bob._tensors.values())[1] \n",
    "# share_alice = list(alice._tensors.values())[0] + list(alice._tensors.values())[1]\n",
    "# print(\"Bob share of x+y (==30): \",share_bob)\n",
    "# print(\"ALice share of x+y (==30): \",share_alice)\n",
    "# print(\"Manual reconstruction of x + y: \", share_bob+share_alice)\n",
    "# # add two encryted numbers using Pysyft \n",
    "# z = x + y \n",
    "# print(\"Automatic reconstruction of x + y: \", z.get())"
   ]
  }
 ],
 "metadata": {
  "kernelspec": {
   "display_name": "Python 3.11.0 64-bit",
   "language": "python",
   "name": "python3"
  },
  "language_info": {
   "codemirror_mode": {
    "name": "ipython",
    "version": 3
   },
   "file_extension": ".py",
   "mimetype": "text/x-python",
   "name": "python",
   "nbconvert_exporter": "python",
   "pygments_lexer": "ipython3",
   "version": "3.11.0"
  },
  "orig_nbformat": 4,
  "vscode": {
   "interpreter": {
    "hash": "5238573367df39f7286bb46f9ff5f08f63a01a80960060ce41e3c79b190280fa"
   }
  }
 },
 "nbformat": 4,
 "nbformat_minor": 2
}
