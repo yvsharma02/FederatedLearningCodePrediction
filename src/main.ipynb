{
 "cells": [
  {
   "cell_type": "code",
   "execution_count": 1,
   "metadata": {},
   "outputs": [],
   "source": [
    "import torch\n",
    "from custom_transformer import CustomTransformer"
   ]
  },
  {
   "cell_type": "code",
   "execution_count": 2,
   "metadata": {},
   "outputs": [
    {
     "data": {
      "text/plain": [
       "<torch._C.Generator at 0x1eefed3a0b0>"
      ]
     },
     "execution_count": 2,
     "metadata": {},
     "output_type": "execute_result"
    }
   ],
   "source": [
    "torch.manual_seed(1234)"
   ]
  },
  {
   "cell_type": "code",
   "execution_count": 3,
   "metadata": {},
   "outputs": [
    {
     "name": "stdout",
     "output_type": "stream",
     "text": [
      "65\n"
     ]
    }
   ],
   "source": [
    "# Testing on random input text before actual python scripts to make sure everything works.\n",
    "with (open(\"../data/input.txt\", \"r\") as file):\n",
    "    text = file.read()\n",
    "\n",
    "vocab = sorted(set(text))\n",
    "print(len(vocab))"
   ]
  },
  {
   "cell_type": "code",
   "execution_count": 4,
   "metadata": {},
   "outputs": [],
   "source": [
    "# ctoi = {ch : i for i, ch in enumerate(vocab)}\n",
    "# itos = {i : ch for i, ch in enumerate(vocab)}\n",
    "\n",
    "# encode = lambda s : [ctoi[c] for c in s]\n",
    "# decode = lambda s : ''.join([itos[i] for i in s])"
   ]
  },
  {
   "cell_type": "code",
   "execution_count": 5,
   "metadata": {},
   "outputs": [],
   "source": [
    "device = torch.device(\"cuda\" if torch.cuda.is_available() else \"cpu\")\n",
    "# print(device)\n",
    "# data = encode(text)\n",
    "# train_size = int(len(data) * .9)\n",
    "# train = data[:train_size]\n",
    "# test = data[train_size:]\n",
    "\n",
    "# def get_batches(dataset, batches, context_len):\n",
    "#     pos = torch.randint(len(dataset) - context_len, (batches,))\n",
    "#     x = torch.stack([torch.tensor(dataset[x : x + context_len], device=device) for x in pos])\n",
    "#     y = torch.stack([torch.tensor(dataset[x + 1 : x + context_len + 1], device=device) for x in pos])\n",
    "\n",
    "#     return x,y"
   ]
  },
  {
   "cell_type": "code",
   "execution_count": 6,
   "metadata": {},
   "outputs": [],
   "source": [
    "# CONTEXT_LEN = 32\n",
    "# BLOCK_COUNT = 1\n",
    "# EMBED_DIM = 128\n",
    "# HEAD_SIZE = 8\n",
    "# LEARNING_RATE = 1e-2\n",
    "# BATCH_COUNT = 32\n",
    "\n",
    "# transformer = CustomTransformer(len(vocab), CONTEXT_LEN, EMBED_DIM, HEAD_SIZE, BLOCK_COUNT)\n",
    "# optimizer = torch.optim.Adam(transformer.parameters(), lr=LEARNING_RATE)"
   ]
  },
  {
   "cell_type": "code",
   "execution_count": 7,
   "metadata": {},
   "outputs": [],
   "source": [
    "# loss_history = []\n",
    "# history = []\n",
    "# loss_avg_block_size = 1\n",
    "# for i in range(1):\n",
    "#     train_in, train_target = get_batches(train, BATCH_COUNT, CONTEXT_LEN)\n",
    "\n",
    "#     logits, loss = transformer(train_in, train_target)\n",
    "#     print(logits.shape)\n",
    "#     optimizer.zero_grad(set_to_none=True)\n",
    "#     loss.backward()\n",
    "#     optimizer.step()\n",
    "    \n",
    "#     history.append(loss.item())\n",
    "#     if (i % loss_avg_block_size == 0):\n",
    "#         print (f\"Iteration {i} Loss: {history[-1]}\")\n",
    "#     if (len(history) >= loss_avg_block_size):\n",
    "#         loss_history.append(torch.tensor(history).mean().item())\n",
    "#         history = []\n",
    "\n",
    "# if (len(history) > 0):\n",
    "#     loss_history.append(torch.tensor(history).mean().item())\n",
    "# print(loss_history[-1])"
   ]
  },
  {
   "cell_type": "code",
   "execution_count": 8,
   "metadata": {},
   "outputs": [],
   "source": [
    "# import matplotlib.pyplot as plt\n",
    "\n",
    "# plt.figure(figsize=(10, 6))\n",
    "# plt.plot(range(1, len(loss_history * loss_avg_block_size) + 1, loss_avg_block_size), loss_history)\n",
    "# plt.xlabel('Iterations')\n",
    "# plt.ylabel('Loss')\n",
    "# plt.title('Loss History')\n",
    "# plt.grid(True)\n",
    "# plt.show()\n"
   ]
  },
  {
   "cell_type": "code",
   "execution_count": 9,
   "metadata": {},
   "outputs": [],
   "source": [
    "# def complete(ctx, new_len):\n",
    "#     res = [x for x in encode(ctx)]\n",
    "#     for _ in range(new_len):\n",
    "#         ctx = torch.tensor([res[-CONTEXT_LEN:]])\n",
    "#         prob, loss = transformer(ctx, None) # Returns a tensor of size (1, W, EM)\n",
    "#         prob = prob.squeeze(0)\n",
    "#         prob = torch.softmax(prob, dim=-1) # (1, W, EM)\n",
    "#         pred = torch.multinomial(prob, 1) # (1, W, 1)\n",
    "#         res.append(pred[-1, 0].item())\n",
    "#     return decode(res[-new_len:])"
   ]
  },
  {
   "cell_type": "code",
   "execution_count": 10,
   "metadata": {},
   "outputs": [],
   "source": [
    "# start = 100\n",
    "# sampled_txt = text[start:start+CONTEXT_LEN]\n",
    "# print(\"_________________________SAMPLED_________________________:\")\n",
    "# print(sampled_txt)\n",
    "# print(\"_________________________PREDICTED_______________________:\")\n",
    "# print(complete(sampled_txt, 16))"
   ]
  },
  {
   "cell_type": "code",
   "execution_count": 11,
   "metadata": {},
   "outputs": [],
   "source": [
    "DELIMITER = \"<END>\""
   ]
  },
  {
   "cell_type": "code",
   "execution_count": 12,
   "metadata": {},
   "outputs": [],
   "source": [
    "import coDesc_parser\n",
    "\n",
    "# Use first 50K * 10 for training, last, then 50K * 2 for testing\n",
    "def load_examples(indices : list[int]):\n",
    "    examples = coDesc_parser.load_examples(indices, \"../data/CoDesc/fragmented\")\n",
    "\n",
    "    examples = [\n",
    "        f\"{DELIMITER}{x}{DELIMITER}\" for x in examples\n",
    "    ]\n",
    "\n",
    "    return examples\n",
    "\n",
    "# def get_batches(training_sample : bool):\n",
    "#     training_texts = torch.randint(0, 50000 * 12, (100,)).tolist()\n",
    "\n",
    "def get_batches(encoded_text, BATCH_COUNT, CONTEXT_LEN):\n",
    "    pos = torch.randint(len(encoded_text) - CONTEXT_LEN, (BATCH_COUNT,))\n",
    "#    print(pos)\n",
    "    x = torch.stack([torch.tensor(encoded_text[x : x + CONTEXT_LEN], device=device) for x in pos])\n",
    "    y = torch.stack([torch.tensor(encoded_text[x + 1 : x + CONTEXT_LEN + 1], device=device) for x in pos])\n",
    "\n",
    "    return x,y"
   ]
  },
  {
   "cell_type": "code",
   "execution_count": 13,
   "metadata": {},
   "outputs": [],
   "source": [
    "# import tiktoken\n",
    "\n",
    "# coDesc_parser.large_text_file_dump(range(25000), \"../data/CoDesc/fragmented\", DELIMITER, \"train.txt\")\n",
    "# coDesc_parser.large_text_file_dump(range(25000, 30000), \"../data/CoDesc/fragmented\", DELIMITER, \"test.txt\")\n",
    "# #examples = load_examples(torch.randint(0, 50000 * 12, (100,)).tolist())"
   ]
  },
  {
   "cell_type": "code",
   "execution_count": 14,
   "metadata": {},
   "outputs": [],
   "source": [
    "from tiktoken._educational import *\n",
    "\n",
    "cl100k_base = tiktoken.get_encoding(\"cl100k_base\")\n",
    "\n",
    "with open(\"../data/CoDesc/fragmented/train.txt\", \"r\") as f:\n",
    "    train = f.read()\n",
    "\n",
    "with open(\"../data/CoDesc/fragmented/test.txt\", \"r\") as f:\n",
    "    test = f.read()\n",
    "\n",
    "train_enc = cl100k_base.encode(train)\n",
    "test_enc = cl100k_base.encode(test)"
   ]
  },
  {
   "cell_type": "code",
   "execution_count": 15,
   "metadata": {},
   "outputs": [
    {
     "name": "stdout",
     "output_type": "stream",
     "text": [
      "52099253\n"
     ]
    }
   ],
   "source": [
    "CONTEXT_LEN = 512\n",
    "BLOCK_COUNT = 1\n",
    "EMBED_DIM = 256\n",
    "NUM_HEADS = 8\n",
    "LEARNING_RATE = 1e-2\n",
    "BATCH_COUNT = 8\n",
    "#print(cl100k_base.n_vocab)\n",
    "transformer = CustomTransformer(cl100k_base.n_vocab, CONTEXT_LEN, EMBED_DIM, NUM_HEADS, BLOCK_COUNT)\n",
    "optimizer = torch.optim.Adam(transformer.parameters(), lr=LEARNING_RATE)\n",
    "print(sum(p.numel() for p in transformer.parameters()))\n"
   ]
  },
  {
   "cell_type": "code",
   "execution_count": 16,
   "metadata": {},
   "outputs": [
    {
     "name": "stdout",
     "output_type": "stream",
     "text": [
      "Iteration 0 Loss: 11.79501724243164\n",
      "Iteration 2 Loss: 8.352350234985352\n",
      "Iteration 4 Loss: 9.550871849060059\n",
      "Iteration 6 Loss: 9.208096504211426\n"
     ]
    },
    {
     "ename": "KeyboardInterrupt",
     "evalue": "",
     "output_type": "error",
     "traceback": [
      "\u001b[1;31m---------------------------------------------------------------------------\u001b[0m",
      "\u001b[1;31mKeyboardInterrupt\u001b[0m                         Traceback (most recent call last)",
      "Cell \u001b[1;32mIn[16], line 17\u001b[0m\n\u001b[0;32m     15\u001b[0m logits, loss \u001b[38;5;241m=\u001b[39m transformer(current_train_in, current_train_target)\n\u001b[0;32m     16\u001b[0m optimizer\u001b[38;5;241m.\u001b[39mzero_grad(set_to_none\u001b[38;5;241m=\u001b[39m\u001b[38;5;28;01mTrue\u001b[39;00m)\n\u001b[1;32m---> 17\u001b[0m \u001b[43mloss\u001b[49m\u001b[38;5;241;43m.\u001b[39;49m\u001b[43mbackward\u001b[49m\u001b[43m(\u001b[49m\u001b[43m)\u001b[49m\n\u001b[0;32m     18\u001b[0m optimizer\u001b[38;5;241m.\u001b[39mstep()\n\u001b[0;32m     20\u001b[0m history\u001b[38;5;241m.\u001b[39mappend(loss\u001b[38;5;241m.\u001b[39mitem())\n",
      "File \u001b[1;32m~\\AppData\\Roaming\\Python\\Python311\\site-packages\\torch\\_tensor.py:525\u001b[0m, in \u001b[0;36mTensor.backward\u001b[1;34m(self, gradient, retain_graph, create_graph, inputs)\u001b[0m\n\u001b[0;32m    515\u001b[0m \u001b[38;5;28;01mif\u001b[39;00m has_torch_function_unary(\u001b[38;5;28mself\u001b[39m):\n\u001b[0;32m    516\u001b[0m     \u001b[38;5;28;01mreturn\u001b[39;00m handle_torch_function(\n\u001b[0;32m    517\u001b[0m         Tensor\u001b[38;5;241m.\u001b[39mbackward,\n\u001b[0;32m    518\u001b[0m         (\u001b[38;5;28mself\u001b[39m,),\n\u001b[1;32m   (...)\u001b[0m\n\u001b[0;32m    523\u001b[0m         inputs\u001b[38;5;241m=\u001b[39minputs,\n\u001b[0;32m    524\u001b[0m     )\n\u001b[1;32m--> 525\u001b[0m \u001b[43mtorch\u001b[49m\u001b[38;5;241;43m.\u001b[39;49m\u001b[43mautograd\u001b[49m\u001b[38;5;241;43m.\u001b[39;49m\u001b[43mbackward\u001b[49m\u001b[43m(\u001b[49m\n\u001b[0;32m    526\u001b[0m \u001b[43m    \u001b[49m\u001b[38;5;28;43mself\u001b[39;49m\u001b[43m,\u001b[49m\u001b[43m \u001b[49m\u001b[43mgradient\u001b[49m\u001b[43m,\u001b[49m\u001b[43m \u001b[49m\u001b[43mretain_graph\u001b[49m\u001b[43m,\u001b[49m\u001b[43m \u001b[49m\u001b[43mcreate_graph\u001b[49m\u001b[43m,\u001b[49m\u001b[43m \u001b[49m\u001b[43minputs\u001b[49m\u001b[38;5;241;43m=\u001b[39;49m\u001b[43minputs\u001b[49m\n\u001b[0;32m    527\u001b[0m \u001b[43m\u001b[49m\u001b[43m)\u001b[49m\n",
      "File \u001b[1;32m~\\AppData\\Roaming\\Python\\Python311\\site-packages\\torch\\autograd\\__init__.py:267\u001b[0m, in \u001b[0;36mbackward\u001b[1;34m(tensors, grad_tensors, retain_graph, create_graph, grad_variables, inputs)\u001b[0m\n\u001b[0;32m    262\u001b[0m     retain_graph \u001b[38;5;241m=\u001b[39m create_graph\n\u001b[0;32m    264\u001b[0m \u001b[38;5;66;03m# The reason we repeat the same comment below is that\u001b[39;00m\n\u001b[0;32m    265\u001b[0m \u001b[38;5;66;03m# some Python versions print out the first line of a multi-line function\u001b[39;00m\n\u001b[0;32m    266\u001b[0m \u001b[38;5;66;03m# calls in the traceback and some print out the last line\u001b[39;00m\n\u001b[1;32m--> 267\u001b[0m \u001b[43m_engine_run_backward\u001b[49m\u001b[43m(\u001b[49m\n\u001b[0;32m    268\u001b[0m \u001b[43m    \u001b[49m\u001b[43mtensors\u001b[49m\u001b[43m,\u001b[49m\n\u001b[0;32m    269\u001b[0m \u001b[43m    \u001b[49m\u001b[43mgrad_tensors_\u001b[49m\u001b[43m,\u001b[49m\n\u001b[0;32m    270\u001b[0m \u001b[43m    \u001b[49m\u001b[43mretain_graph\u001b[49m\u001b[43m,\u001b[49m\n\u001b[0;32m    271\u001b[0m \u001b[43m    \u001b[49m\u001b[43mcreate_graph\u001b[49m\u001b[43m,\u001b[49m\n\u001b[0;32m    272\u001b[0m \u001b[43m    \u001b[49m\u001b[43minputs\u001b[49m\u001b[43m,\u001b[49m\n\u001b[0;32m    273\u001b[0m \u001b[43m    \u001b[49m\u001b[43mallow_unreachable\u001b[49m\u001b[38;5;241;43m=\u001b[39;49m\u001b[38;5;28;43;01mTrue\u001b[39;49;00m\u001b[43m,\u001b[49m\n\u001b[0;32m    274\u001b[0m \u001b[43m    \u001b[49m\u001b[43maccumulate_grad\u001b[49m\u001b[38;5;241;43m=\u001b[39;49m\u001b[38;5;28;43;01mTrue\u001b[39;49;00m\u001b[43m,\u001b[49m\n\u001b[0;32m    275\u001b[0m \u001b[43m\u001b[49m\u001b[43m)\u001b[49m\n",
      "File \u001b[1;32m~\\AppData\\Roaming\\Python\\Python311\\site-packages\\torch\\autograd\\graph.py:744\u001b[0m, in \u001b[0;36m_engine_run_backward\u001b[1;34m(t_outputs, *args, **kwargs)\u001b[0m\n\u001b[0;32m    742\u001b[0m     unregister_hooks \u001b[38;5;241m=\u001b[39m _register_logging_hooks_on_whole_graph(t_outputs)\n\u001b[0;32m    743\u001b[0m \u001b[38;5;28;01mtry\u001b[39;00m:\n\u001b[1;32m--> 744\u001b[0m     \u001b[38;5;28;01mreturn\u001b[39;00m \u001b[43mVariable\u001b[49m\u001b[38;5;241;43m.\u001b[39;49m\u001b[43m_execution_engine\u001b[49m\u001b[38;5;241;43m.\u001b[39;49m\u001b[43mrun_backward\u001b[49m\u001b[43m(\u001b[49m\u001b[43m  \u001b[49m\u001b[38;5;66;43;03m# Calls into the C++ engine to run the backward pass\u001b[39;49;00m\n\u001b[0;32m    745\u001b[0m \u001b[43m        \u001b[49m\u001b[43mt_outputs\u001b[49m\u001b[43m,\u001b[49m\u001b[43m \u001b[49m\u001b[38;5;241;43m*\u001b[39;49m\u001b[43margs\u001b[49m\u001b[43m,\u001b[49m\u001b[43m \u001b[49m\u001b[38;5;241;43m*\u001b[39;49m\u001b[38;5;241;43m*\u001b[39;49m\u001b[43mkwargs\u001b[49m\n\u001b[0;32m    746\u001b[0m \u001b[43m    \u001b[49m\u001b[43m)\u001b[49m  \u001b[38;5;66;03m# Calls into the C++ engine to run the backward pass\u001b[39;00m\n\u001b[0;32m    747\u001b[0m \u001b[38;5;28;01mfinally\u001b[39;00m:\n\u001b[0;32m    748\u001b[0m     \u001b[38;5;28;01mif\u001b[39;00m attach_logging_hooks:\n",
      "\u001b[1;31mKeyboardInterrupt\u001b[0m: "
     ]
    }
   ],
   "source": [
    "loss_history = []\n",
    "history = []\n",
    "loss_avg_block_size = 2\n",
    "\n",
    "# Prefetch the first batch\n",
    "#train_in, train_target = get_batches(train_enc, BATCH_COUNT, CONTEXT_LEN)\n",
    "\n",
    "for i in range(10):\n",
    "    def collate_fn(batch):\n",
    "        return get_batches(*batch[0])\n",
    "    # Use the prefetched batch\n",
    "    current_train_in, current_train_target = get_batches(train_enc, BATCH_COUNT, CONTEXT_LEN)\n",
    "\n",
    "    # Process the current batch\n",
    "    logits, loss = transformer(current_train_in, current_train_target)\n",
    "    optimizer.zero_grad(set_to_none=True)\n",
    "    loss.backward()\n",
    "    optimizer.step()\n",
    "    \n",
    "    history.append(loss.item())\n",
    "    if (i % loss_avg_block_size == 0):\n",
    "        print (f\"Iteration {i} Loss: {history[-1]}\")\n",
    "    if (len(history) >= loss_avg_block_size):\n",
    "        loss_history.append(torch.tensor(history).mean().item())\n",
    "        history = []\n",
    "\n",
    "if (len(history) > 0):\n",
    "    loss_history.append(torch.tensor(history).mean().item())\n",
    "#print(loss_history[-1])"
   ]
  },
  {
   "cell_type": "code",
   "execution_count": null,
   "metadata": {},
   "outputs": [
    {
     "data": {
      "image/png": "[encoded data removed]",
      "text/plain": [
       "<Figure size 1000x600 with 1 Axes>"
      ]
     },
     "metadata": {},
     "output_type": "display_data"
    }
   ],
   "source": [
    "import matplotlib.pyplot as plt\n",
    "\n",
    "plt.figure(figsize=(10, 6))\n",
    "plt.plot(range(1, len(loss_history * loss_avg_block_size) + 1, loss_avg_block_size), loss_history)\n",
    "plt.xlabel('Iterations')\n",
    "plt.ylabel('Loss')\n",
    "plt.title('Loss History')\n",
    "plt.grid(True)\n",
    "plt.show()\n"
   ]
  },
  {
   "cell_type": "code",
   "execution_count": null,
   "metadata": {},
   "outputs": [],
   "source": [
    "def complete(ctx, new_len):\n",
    "    res = [x for x in ctx]\n",
    "    \n",
    "    for _ in range(new_len):\n",
    "        ctx = torch.tensor([res[-CONTEXT_LEN:]])\n",
    "        prob, loss = transformer(ctx, None) # Returns a tensor of size (1, W, EM)\n",
    "        prob = prob.squeeze(0)\n",
    "        prob = torch.softmax(prob, dim=-1) # (1, W, EM)\n",
    "        pred = torch.multinomial(prob, 1) # (1, W, 1)\n",
    "        res.append(pred[-1, 0].item())\n",
    "    return cl100k_base.decode(res[-new_len:])"
   ]
  },
  {
   "cell_type": "code",
   "execution_count": null,
   "metadata": {},
   "outputs": [
    {
     "name": "stdout",
     "output_type": "stream",
     "text": [
      "_________________________SAMPLED_________________________:\n",
      "<<<>DELIMITER<>>>\n",
      "<<<>DELIMITER<>>>protected final int initConfiguration(){\n",
      "\t\tString propFile = this.optionPropFile.getValue();\n",
      "\n",
      "\t\tthis.configuration = this.loadProperties(propFile);\n",
      "\t\tif(this.configuration==null){\n",
      "\t\t\tSystem.err.println(this.getAppName() + \": could not load configuration properties from file <\" + propFile + \">, exiting\");\n",
      "\t\t\treturn -1;\n",
      "\t\t}\n",
      "\n",
      "\t\tif(this.configuration.get(PROP_RUN_SCRIPT_NAME)==null){\n",
      "\t\t\tSystem.err.println(this.getAppName() + \": configuration does not contain key <\" + PROP_RUN_SCRIPT_NAME + \">, exiting\");\n",
      "\t\t\treturn -1;\n",
      "\t\t}\n",
      "\t\tif(this.configuration.get(PROP_RUN_CLASS)==null){\n",
      "\t\t\tSystem.err.println(this.getAppName() + \": configuration does not contain key <\" + PROP_RUN_CLASS + \">, exiting\");\n",
      "\t\t\treturn -1;\n",
      "\t\t}\n",
      "\t\tif(this.configuration.get(PROP_JAVA_CP)==null){\n",
      "\t\t\tSystem.err.println(this.getAppName() + \": configuration\n",
      "_________________________PREDICTED_______________________:\n",
      ".class();\n",
      " String IllegalStateException\tbyte_r to                              .min00r                       IMITER> =\n"
     ]
    }
   ],
   "source": [
    "start = 679\n",
    "sampled_txt = test_enc[start:start+CONTEXT_LEN]\n",
    "print(\"_________________________SAMPLED_________________________:\")\n",
    "print(cl100k_base.decode(sampled_txt))\n",
    "print(\"_________________________PREDICTED_______________________:\")\n",
    "print(complete(sampled_txt, 16))"
   ]
  },
  {
   "cell_type": "code",
   "execution_count": null,
   "metadata": {},
   "outputs": [],
   "source": []
  }
 ],
 "metadata": {
  "kernelspec": {
   "display_name": "Python 3.11.0 64-bit",
   "language": "python",
   "name": "python3"
  },
  "language_info": {
   "codemirror_mode": {
    "name": "ipython",
    "version": 3
   },
   "file_extension": ".py",
   "mimetype": "text/x-python",
   "name": "python",
   "nbconvert_exporter": "python",
   "pygments_lexer": "ipython3",
   "version": "3.11.0"
  },
  "orig_nbformat": 4,
  "vscode": {
   "interpreter": {
    "hash": "5238573367df39f7286bb46f9ff5f08f63a01a80960060ce41e3c79b190280fa"
   }
  }
 },
 "nbformat": 4,
 "nbformat_minor": 2
}
