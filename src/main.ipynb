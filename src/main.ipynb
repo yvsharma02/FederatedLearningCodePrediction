{
 "cells": [
  {
   "cell_type": "code",
   "execution_count": 1,
   "metadata": {},
   "outputs": [],
   "source": [
    "import torch\n",
    "from custom_transformer import CustomTransformer"
   ]
  },
  {
   "cell_type": "code",
   "execution_count": 2,
   "metadata": {},
   "outputs": [
    {
     "data": {
      "text/plain": [
       "<torch._C.Generator at 0x20d7e4fd3f0>"
      ]
     },
     "execution_count": 2,
     "metadata": {},
     "output_type": "execute_result"
    }
   ],
   "source": [
    "torch.manual_seed(1234)"
   ]
  },
  {
   "cell_type": "code",
   "execution_count": 3,
   "metadata": {},
   "outputs": [
    {
     "name": "stdout",
     "output_type": "stream",
     "text": [
      "65\n"
     ]
    }
   ],
   "source": [
    "# Testing on random input text before actual python scripts to make sure everything works.\n",
    "with (open(\"../data/input.txt\", \"r\") as file):\n",
    "    text = file.read()\n",
    "\n",
    "vocab = sorted(set(text))\n",
    "print(len(vocab))"
   ]
  },
  {
   "cell_type": "code",
   "execution_count": 4,
   "metadata": {},
   "outputs": [],
   "source": [
    "ctoi = {ch : i for i, ch in enumerate(vocab)}\n",
    "itos = {i : ch for i, ch in enumerate(vocab)}\n",
    "\n",
    "encode = lambda s : [ctoi[c] for c in s]\n",
    "decode = lambda s : ''.join([itos[i] for i in s])"
   ]
  },
  {
   "cell_type": "code",
   "execution_count": 5,
   "metadata": {},
   "outputs": [],
   "source": [
    "data = encode(text)\n",
    "train_size = int(len(data) * .9)\n",
    "train = data[:train_size]\n",
    "test = data[train_size:]\n",
    "\n",
    "def get_batches(dataset, batches, context_len):\n",
    "    pos = torch.randint(len(dataset) - context_len, (batches,))\n",
    "    x = torch.stack([torch.tensor(dataset[x : x + context_len]) for x in pos])\n",
    "    y = torch.stack([torch.tensor(dataset[x + 1 : x + context_len + 1]) for x in pos])\n",
    "\n",
    "    return x,y"
   ]
  },
  {
   "cell_type": "code",
   "execution_count": 6,
   "metadata": {},
   "outputs": [],
   "source": [
    "transformer = CustomTransformer(len(vocab), 10, 20, 4, 2)\n",
    "optimizer = torch.optim.Adam(transformer.parameters(), lr=1e-3)"
   ]
  },
  {
   "cell_type": "code",
   "execution_count": 8,
   "metadata": {},
   "outputs": [
    {
     "name": "stdout",
     "output_type": "stream",
     "text": [
      "-18.236251831054688\n",
      "-18.935283660888672\n",
      "-19.42620277404785\n",
      "-20.876977920532227\n",
      "-22.171865463256836\n",
      "-28.083812713623047\n",
      "-15.307360649108887\n",
      "-20.224943161010742\n",
      "-26.409128189086914\n",
      "-21.114221572875977\n"
     ]
    }
   ],
   "source": [
    "for i in range(10):\n",
    "    train_in, train_target = get_batches(train, 4, 10)\n",
    "    logits, loss = transformer(train_in, train_target)\n",
    "    optimizer.zero_grad(set_to_none=True)\n",
    "    loss.backward()\n",
    "    optimizer.step()\n",
    "    \n",
    "#    print(loss.item())"
   ]
  }
 ],
 "metadata": {
  "kernelspec": {
   "display_name": "Python 3.11.0 64-bit",
   "language": "python",
   "name": "python3"
  },
  "language_info": {
   "codemirror_mode": {
    "name": "ipython",
    "version": 3
   },
   "file_extension": ".py",
   "mimetype": "text/x-python",
   "name": "python",
   "nbconvert_exporter": "python",
   "pygments_lexer": "ipython3",
   "version": "3.11.0"
  },
  "orig_nbformat": 4,
  "vscode": {
   "interpreter": {
    "hash": "5238573367df39f7286bb46f9ff5f08f63a01a80960060ce41e3c79b190280fa"
   }
  }
 },
 "nbformat": 4,
 "nbformat_minor": 2
}
